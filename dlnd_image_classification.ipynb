{
 "cells": [
  {
   "cell_type": "markdown",
   "metadata": {
    "collapsed": true
   },
   "source": [
    "# Image Classification\n",
    "In this project, you'll classify images from the [CIFAR-10 dataset](https://www.cs.toronto.edu/~kriz/cifar.html).  The dataset consists of airplanes, dogs, cats, and other objects. You'll preprocess the images, then train a convolutional neural network on all the samples. The images need to be normalized and the labels need to be one-hot encoded.  You'll get to apply what you learned and build a convolutional, max pooling, dropout, and fully connected layers.  At the end, you'll get to see your neural network's predictions on the sample images.\n",
    "## Get the Data\n",
    "Run the following cell to download the [CIFAR-10 dataset for python](https://www.cs.toronto.edu/~kriz/cifar-10-python.tar.gz)."
   ]
  },
  {
   "cell_type": "code",
   "execution_count": 36,
   "metadata": {},
   "outputs": [
    {
     "name": "stdout",
     "output_type": "stream",
     "text": [
      "All files found!\n"
     ]
    }
   ],
   "source": [
    "\"\"\"\n",
    "DON'T MODIFY ANYTHING IN THIS CELL THAT IS BELOW THIS LINE\n",
    "\"\"\"\n",
    "from urllib.request import urlretrieve\n",
    "from os.path import isfile, isdir\n",
    "from tqdm import tqdm\n",
    "import problem_unittests as tests\n",
    "import tarfile\n",
    "from sklearn.preprocessing import OneHotEncoder\n",
    "\n",
    "cifar10_dataset_folder_path = 'cifar-10-batches-py'\n",
    "\n",
    "# Use Floyd's cifar-10 dataset if present\n",
    "floyd_cifar10_location = '/cifar/cifar-10-python.tar.gz'\n",
    "if isfile(floyd_cifar10_location):\n",
    "    tar_gz_path = floyd_cifar10_location\n",
    "else:\n",
    "    tar_gz_path = 'cifar-10-python.tar.gz'\n",
    "\n",
    "class DLProgress(tqdm):\n",
    "    last_block = 0\n",
    "\n",
    "    def hook(self, block_num=1, block_size=1, total_size=None):\n",
    "        self.total = total_size\n",
    "        self.update((block_num - self.last_block) * block_size)\n",
    "        self.last_block = block_num\n",
    "\n",
    "if not isfile(tar_gz_path):\n",
    "    with DLProgress(unit='B', unit_scale=True, miniters=1, desc='CIFAR-10 Dataset') as pbar:\n",
    "        urlretrieve(\n",
    "            'https://www.cs.toronto.edu/~kriz/cifar-10-python.tar.gz',\n",
    "            tar_gz_path,\n",
    "            pbar.hook)\n",
    "\n",
    "if not isdir(cifar10_dataset_folder_path):\n",
    "    with tarfile.open(tar_gz_path) as tar:\n",
    "        tar.extractall()\n",
    "        tar.close()\n",
    "\n",
    "\n",
    "tests.test_folder_path(cifar10_dataset_folder_path)"
   ]
  },
  {
   "cell_type": "markdown",
   "metadata": {},
   "source": [
    "## Explore the Data\n",
    "The dataset is broken into batches to prevent your machine from running out of memory.  The CIFAR-10 dataset consists of 5 batches, named `data_batch_1`, `data_batch_2`, etc.. Each batch contains the labels and images that are one of the following:\n",
    "* airplane\n",
    "* automobile\n",
    "* bird\n",
    "* cat\n",
    "* deer\n",
    "* dog\n",
    "* frog\n",
    "* horse\n",
    "* ship\n",
    "* truck\n",
    "\n",
    "Understanding a dataset is part of making predictions on the data.  Play around with the code cell below by changing the `batch_id` and `sample_id`. The `batch_id` is the id for a batch (1-5). The `sample_id` is the id for a image and label pair in the batch.\n",
    "\n",
    "Ask yourself \"What are all possible labels?\", \"What is the range of values for the image data?\", \"Are the labels in order or random?\".  Answers to questions like these will help you preprocess the data and end up with better predictions."
   ]
  },
  {
   "cell_type": "code",
   "execution_count": 4,
   "metadata": {},
   "outputs": [
    {
     "name": "stdout",
     "output_type": "stream",
     "text": [
      "\n",
      "Stats of batch 1:\n",
      "Samples: 10000\n",
      "Label Counts: {0: 1005, 1: 974, 2: 1032, 3: 1016, 4: 999, 5: 937, 6: 1030, 7: 1001, 8: 1025, 9: 981}\n",
      "First 20 Labels: [6, 9, 9, 4, 1, 1, 2, 7, 8, 3, 4, 7, 7, 2, 9, 9, 9, 3, 2, 6]\n",
      "\n",
      "Example of Image 5:\n",
      "Image - Min Value: 0 Max Value: 252\n",
      "Image - Shape: (32, 32, 3)\n",
      "Label - Label Id: 1 Name: automobile\n",
      "cifar-10-batches-py\n"
     ]
    },
    {
     "data": {
      "image/png": "[encoded data removed]",
      "text/plain": [
       "<matplotlib.figure.Figure at 0x11c6526d8>"
      ]
     },
     "metadata": {
      "image/png": {
       "height": 250,
       "width": 253
      }
     },
     "output_type": "display_data"
    }
   ],
   "source": [
    "%matplotlib inline\n",
    "%config InlineBackend.figure_format = 'retina'\n",
    "\n",
    "import helper\n",
    "import numpy as np\n",
    "\n",
    "# Explore the dataset\n",
    "batch_id = 1\n",
    "sample_id = 5\n",
    "helper.display_stats(cifar10_dataset_folder_path, batch_id, sample_id)\n",
    "print(cifar10_dataset_folder_path)"
   ]
  },
  {
   "cell_type": "markdown",
   "metadata": {},
   "source": [
    "## Implement Preprocess Functions\n",
    "### Normalize\n",
    "In the cell below, implement the `normalize` function to take in image data, `x`, and return it as a normalized Numpy array. The values should be in the range of 0 to 1, inclusive.  The return object should be the same shape as `x`."
   ]
  },
  {
   "cell_type": "code",
   "execution_count": 97,
   "metadata": {},
   "outputs": [
    {
     "name": "stdout",
     "output_type": "stream",
     "text": [
      "Tests Passed\n"
     ]
    }
   ],
   "source": [
    "def normalize(x):\n",
    "    \"\"\"\n",
    "    Normalize a list of sample image data in the range of 0 to 1\n",
    "    : x: List of image data.  The image shape is (32, 32, 3)\n",
    "    : return: Numpy array of normalize data\n",
    "    \"\"\"\n",
    "    # TODO: Implement Function\n",
    "    normalized_x = np.zeros(tuple(x.shape))\n",
    "    nr_images = x.shape[0]\n",
    "    # Compute max/min values.\n",
    "    max_val, min_val = x.max(), x.min()\n",
    "    # Transform every image.\n",
    "    for image_index in range(nr_images):\n",
    "        normalized_x[image_index,...] = (x[image_index, ...] - float(min_val)) / float(max_val - min_val)    \n",
    "    return normalized_x\n",
    "\n",
    "\n",
    "\"\"\"\n",
    "DON'T MODIFY ANYTHING IN THIS CELL THAT IS BELOW THIS LINE\n",
    "\"\"\"\n",
    "tests.test_normalize(normalize)\n"
   ]
  },
  {
   "cell_type": "markdown",
   "metadata": {},
   "source": [
    "### One-hot encode\n",
    "Just like the previous code cell, you'll be implementing a function for preprocessing.  This time, you'll implement the `one_hot_encode` function. The input, `x`, are a list of labels.  Implement the function to return the list of labels as One-Hot encoded Numpy array.  The possible values for labels are 0 to 9. The one-hot encoding function should return the same encoding for each value between each call to `one_hot_encode`.  Make sure to save the map of encodings outside the function.\n",
    "\n",
    "Hint: Don't reinvent the wheel."
   ]
  },
  {
   "cell_type": "code",
   "execution_count": 98,
   "metadata": {},
   "outputs": [
    {
     "name": "stdout",
     "output_type": "stream",
     "text": [
      "Tests Passed\n"
     ]
    }
   ],
   "source": [
    "def one_hot_encode(x):\n",
    "    \"\"\"\n",
    "    One hot encode a list of sample labels. Return a one-hot encoded vector for each label.\n",
    "    : x: List of sample Labels\n",
    "    : return: Numpy array of one-hot encoded labels\n",
    "    \"\"\"\n",
    "    # TODO: Implement Function\n",
    "    \n",
    "    enc = OneHotEncoder(n_values=10)  \n",
    "    one_hot_encoded_labels = enc.fit_transform(np.array(x).reshape(-1, 1)).toarray()\n",
    "    return one_hot_encoded_labels\n",
    "\n",
    "\n",
    "\"\"\"\n",
    "DON'T MODIFY ANYTHING IN THIS CELL THAT IS BELOW THIS LINE\n",
    "\"\"\"\n",
    "tests.test_one_hot_encode(one_hot_encode)"
   ]
  },
  {
   "cell_type": "markdown",
   "metadata": {},
   "source": [
    "### Randomize Data\n",
    "As you saw from exploring the data above, the order of the samples are randomized.  It doesn't hurt to randomize it again, but you don't need to for this dataset."
   ]
  },
  {
   "cell_type": "markdown",
   "metadata": {},
   "source": [
    "## Preprocess all the data and save it\n",
    "Running the code cell below will preprocess all the CIFAR-10 data and save it to file. The code below also uses 10% of the training data for validation."
   ]
  },
  {
   "cell_type": "code",
   "execution_count": 99,
   "metadata": {
    "collapsed": true
   },
   "outputs": [],
   "source": [
    "\"\"\"\n",
    "DON'T MODIFY ANYTHING IN THIS CELL\n",
    "\"\"\"\n",
    "# Preprocess Training, Validation, and Testing Data\n",
    "helper.preprocess_and_save_data(cifar10_dataset_folder_path, normalize, one_hot_encode)"
   ]
  },
  {
   "cell_type": "markdown",
   "metadata": {},
   "source": [
    "# Check Point\n",
    "This is your first checkpoint.  If you ever decide to come back to this notebook or have to restart the notebook, you can start from here.  The preprocessed data has been saved to disk."
   ]
  },
  {
   "cell_type": "code",
   "execution_count": 100,
   "metadata": {
    "collapsed": true
   },
   "outputs": [],
   "source": [
    "\"\"\"\n",
    "DON'T MODIFY ANYTHING IN THIS CELL\n",
    "\"\"\"\n",
    "import pickle\n",
    "import problem_unittests as tests\n",
    "import helper\n",
    "\n",
    "# Load the Preprocessed Validation data\n",
    "valid_features, valid_labels = pickle.load(open('preprocess_validation.p', mode='rb'))"
   ]
  },
  {
   "cell_type": "markdown",
   "metadata": {},
   "source": [
    "## Build the network\n",
    "For the neural network, you'll build each layer into a function.  Most of the code you've seen has been outside of functions. To test your code more thoroughly, we require that you put each layer in a function.  This allows us to give you better feedback and test for simple mistakes using our unittests before you submit your project.\n",
    "\n",
    ">**Note:** If you're finding it hard to dedicate enough time for this course each week, we've provided a small shortcut to this part of the project. In the next couple of problems, you'll have the option to use classes from the [TensorFlow Layers](https://www.tensorflow.org/api_docs/python/tf/layers) or [TensorFlow Layers (contrib)](https://www.tensorflow.org/api_guides/python/contrib.layers) packages to build each layer, except the layers you build in the \"Convolutional and Max Pooling Layer\" section.  TF Layers is similar to Keras's and TFLearn's abstraction to layers, so it's easy to pickup.\n",
    "\n",
    ">However, if you would like to get the most out of this course, try to solve all the problems _without_ using anything from the TF Layers packages. You **can** still use classes from other packages that happen to have the same name as ones you find in TF Layers! For example, instead of using the TF Layers version of the `conv2d` class, [tf.layers.conv2d](https://www.tensorflow.org/api_docs/python/tf/layers/conv2d), you would want to use the TF Neural Network version of `conv2d`, [tf.nn.conv2d](https://www.tensorflow.org/api_docs/python/tf/nn/conv2d). \n",
    "\n",
    "Let's begin!\n",
    "\n",
    "### Input\n",
    "The neural network needs to read the image data, one-hot encoded labels, and dropout keep probability. Implement the following functions\n",
    "* Implement `neural_net_image_input`\n",
    " * Return a [TF Placeholder](https://www.tensorflow.org/api_docs/python/tf/placeholder)\n",
    " * Set the shape using `image_shape` with batch size set to `None`.\n",
    " * Name the TensorFlow placeholder \"x\" using the TensorFlow `name` parameter in the [TF Placeholder](https://www.tensorflow.org/api_docs/python/tf/placeholder).\n",
    "* Implement `neural_net_label_input`\n",
    " * Return a [TF Placeholder](https://www.tensorflow.org/api_docs/python/tf/placeholder)\n",
    " * Set the shape using `n_classes` with batch size set to `None`.\n",
    " * Name the TensorFlow placeholder \"y\" using the TensorFlow `name` parameter in the [TF Placeholder](https://www.tensorflow.org/api_docs/python/tf/placeholder).\n",
    "* Implement `neural_net_keep_prob_input`\n",
    " * Return a [TF Placeholder](https://www.tensorflow.org/api_docs/python/tf/placeholder) for dropout keep probability.\n",
    " * Name the TensorFlow placeholder \"keep_prob\" using the TensorFlow `name` parameter in the [TF Placeholder](https://www.tensorflow.org/api_docs/python/tf/placeholder).\n",
    "\n",
    "These names will be used at the end of the project to load your saved model.\n",
    "\n",
    "Note: `None` for shapes in TensorFlow allow for a dynamic size."
   ]
  },
  {
   "cell_type": "code",
   "execution_count": 101,
   "metadata": {},
   "outputs": [
    {
     "name": "stdout",
     "output_type": "stream",
     "text": [
      "Image Input Tests Passed.\n",
      "Label Input Tests Passed.\n",
      "Keep Prob Tests Passed.\n"
     ]
    }
   ],
   "source": [
    "import tensorflow as tf\n",
    "\n",
    "def neural_net_image_input(image_shape):\n",
    "    \"\"\"\n",
    "    Return a Tensor for a batch of image input\n",
    "    : image_shape: Shape of the images\n",
    "    : return: Tensor for image input.\n",
    "    \"\"\"\n",
    "    \n",
    "    return tf.placeholder(tf.float32, shape=((None,) + image_shape), name='x')\n",
    "\n",
    "\n",
    "def neural_net_label_input(n_classes):\n",
    "    \"\"\"\n",
    "    Return a Tensor for a batch of label input\n",
    "    : n_classes: Number of classes\n",
    "    : return: Tensor for label input.\n",
    "    \"\"\"\n",
    "    return tf.placeholder(tf.float32, shape=(None, n_classes), name='y')\n",
    "\n",
    "\n",
    "def neural_net_keep_prob_input():\n",
    "    \"\"\"\n",
    "    Return a Tensor for keep probability\n",
    "    : return: Tensor for keep probability.\n",
    "    \"\"\"\n",
    "    return tf.placeholder(tf.float32, shape=(None), name='keep_prob')\n",
    "\n",
    "\n",
    "\"\"\"\n",
    "DON'T MODIFY ANYTHING IN THIS CELL THAT IS BELOW THIS LINE\n",
    "\"\"\"\n",
    "tf.reset_default_graph()\n",
    "tests.test_nn_image_inputs(neural_net_image_input)\n",
    "tests.test_nn_label_inputs(neural_net_label_input)\n",
    "tests.test_nn_keep_prob_inputs(neural_net_keep_prob_input)"
   ]
  },
  {
   "cell_type": "markdown",
   "metadata": {},
   "source": [
    "### Convolution and Max Pooling Layer\n",
    "Convolution layers have a lot of success with images. For this code cell, you should implement the function `conv2d_maxpool` to apply convolution then max pooling:\n",
    "* Create the weight and bias using `conv_ksize`, `conv_num_outputs` and the shape of `x_tensor`.\n",
    "* Apply a convolution to `x_tensor` using weight and `conv_strides`.\n",
    " * We recommend you use same padding, but you're welcome to use any padding.\n",
    "* Add bias\n",
    "* Add a nonlinear activation to the convolution.\n",
    "* Apply Max Pooling using `pool_ksize` and `pool_strides`.\n",
    " * We recommend you use same padding, but you're welcome to use any padding.\n",
    "\n",
    "**Note:** You **can't** use [TensorFlow Layers](https://www.tensorflow.org/api_docs/python/tf/layers) or [TensorFlow Layers (contrib)](https://www.tensorflow.org/api_guides/python/contrib.layers) for **this** layer, but you can still use TensorFlow's [Neural Network](https://www.tensorflow.org/api_docs/python/tf/nn) package. You may still use the shortcut option for all the **other** layers."
   ]
  },
  {
   "cell_type": "code",
   "execution_count": 102,
   "metadata": {},
   "outputs": [
    {
     "name": "stdout",
     "output_type": "stream",
     "text": [
      "Tests Passed\n"
     ]
    }
   ],
   "source": [
    "def conv2d_maxpool(x_tensor, conv_num_outputs, conv_ksize, conv_strides, pool_ksize, pool_strides):\n",
    "    \"\"\"\n",
    "    Apply convolution then max pooling to x_tensor\n",
    "    :param x_tensor: TensorFlow Tensor\n",
    "    :param conv_num_outputs: Number of outputs for the convolutional layer\n",
    "    :param conv_ksize: kernal size 2-D Tuple for the convolutional layer\n",
    "    :param conv_strides: Stride 2-D Tuple for convolution\n",
    "    :param pool_ksize: kernal size 2-D Tuple for pool\n",
    "    :param pool_strides: Stride 2-D Tuple for pool\n",
    "    : return: A tensor that represents convolution and max pooling of x_tensor\n",
    "    \"\"\"\n",
    "    weights_shape = list(conv_ksize) + [x_tensor.get_shape().as_list()[3], conv_num_outputs]\n",
    "    weights = tf.Variable(tf.truncated_normal(weights_shape, stddev=5e-2))\n",
    "    bias = tf.Variable(tf.zeros(conv_num_outputs))\n",
    "    \n",
    "    # 2D Convolution Layer.\n",
    "    output = tf.nn.conv2d(x_tensor, weights, \n",
    "                          strides=[1, conv_strides[0], conv_strides[1], 1],\n",
    "                          padding='SAME')\n",
    "    output = tf.nn.bias_add(output, bias)\n",
    "    output = tf.nn.relu(output)\n",
    "    return tf.nn.max_pool(\n",
    "        output, \n",
    "        ksize=[1, pool_ksize[0], pool_ksize[1], 1], \n",
    "        strides=[1, pool_strides[0], pool_strides[1], 1],\n",
    "        padding='SAME'\n",
    "    ) \n",
    "\n",
    "\n",
    "\"\"\"\n",
    "DON'T MODIFY ANYTHING IN THIS CELL THAT IS BELOW THIS LINE\n",
    "\"\"\"\n",
    "tests.test_con_pool(conv2d_maxpool)"
   ]
  },
  {
   "cell_type": "markdown",
   "metadata": {},
   "source": [
    "### Flatten Layer\n",
    "Implement the `flatten` function to change the dimension of `x_tensor` from a 4-D tensor to a 2-D tensor.  The output should be the shape (*Batch Size*, *Flattened Image Size*). Shortcut option: you can use classes from the [TensorFlow Layers](https://www.tensorflow.org/api_docs/python/tf/layers) or [TensorFlow Layers (contrib)](https://www.tensorflow.org/api_guides/python/contrib.layers) packages for this layer. For more of a challenge, only use other TensorFlow packages."
   ]
  },
  {
   "cell_type": "code",
   "execution_count": 103,
   "metadata": {},
   "outputs": [
    {
     "name": "stdout",
     "output_type": "stream",
     "text": [
      "Tests Passed\n"
     ]
    }
   ],
   "source": [
    "def flatten(x_tensor):\n",
    "    \"\"\"\n",
    "    Flatten x_tensor to (Batch Size, Flattened Image Size)\n",
    "    : x_tensor: A tensor of size (Batch Size, ...), where ... are the image dimensions.\n",
    "    : return: A tensor of size (Batch Size, Flattened Image Size).\n",
    "    \"\"\"\n",
    "    tensor_shape = x_tensor.get_shape().as_list()\n",
    "    # Get the length of the flattened dimensions.\n",
    "    flattened_shape = np.array(tensor_shape[1:]).prod()\n",
    "    # Batch size is casted by tf.shape.\n",
    "    return tf.reshape(x_tensor, [tf.shape(x_tensor)[0], flattened_shape])\n",
    "\n",
    "\n",
    "\"\"\"\n",
    "DON'T MODIFY ANYTHING IN THIS CELL THAT IS BELOW THIS LINE\n",
    "\"\"\"\n",
    "tests.test_flatten(flatten)"
   ]
  },
  {
   "cell_type": "markdown",
   "metadata": {},
   "source": [
    "### Fully-Connected Layer\n",
    "Implement the `fully_conn` function to apply a fully connected layer to `x_tensor` with the shape (*Batch Size*, *num_outputs*). Shortcut option: you can use classes from the [TensorFlow Layers](https://www.tensorflow.org/api_docs/python/tf/layers) or [TensorFlow Layers (contrib)](https://www.tensorflow.org/api_guides/python/contrib.layers) packages for this layer. For more of a challenge, only use other TensorFlow packages."
   ]
  },
  {
   "cell_type": "code",
   "execution_count": 104,
   "metadata": {},
   "outputs": [
    {
     "name": "stdout",
     "output_type": "stream",
     "text": [
      "Tests Passed\n"
     ]
    }
   ],
   "source": [
    "def fully_conn(x_tensor, num_outputs):\n",
    "    \"\"\"\n",
    "    Apply a fully connected layer to x_tensor using weight and bias\n",
    "    : x_tensor: A 2-D tensor where the first dimension is batch size.\n",
    "    : num_outputs: The number of output that the new tensor should be.\n",
    "    : return: A 2-D tensor where the second dimension is num_outputs.\n",
    "    \"\"\"\n",
    "    flattened_shape = np.array(x_tensor.get_shape().as_list()[1:]).prod()\n",
    "    # Define trainable variables.\n",
    "    weights = tf.Variable(tf.truncated_normal([flattened_shape, num_outputs], stddev=0.04))\n",
    "    bias = tf.Variable(tf.zeros([num_outputs]))\n",
    "    \n",
    "    # Fully convolution layer.\n",
    "    return tf.nn.relu(tf.add(tf.matmul(x_tensor, weights), bias)) \n",
    "\n",
    "\"\"\"\n",
    "DON'T MODIFY ANYTHING IN THIS CELL THAT IS BELOW THIS LINE\n",
    "\"\"\"\n",
    "tests.test_fully_conn(fully_conn)"
   ]
  },
  {
   "cell_type": "markdown",
   "metadata": {},
   "source": [
    "### Output Layer\n",
    "Implement the `output` function to apply a fully connected layer to `x_tensor` with the shape (*Batch Size*, *num_outputs*). Shortcut option: you can use classes from the [TensorFlow Layers](https://www.tensorflow.org/api_docs/python/tf/layers) or [TensorFlow Layers (contrib)](https://www.tensorflow.org/api_guides/python/contrib.layers) packages for this layer. For more of a challenge, only use other TensorFlow packages.\n",
    "\n",
    "**Note:** Activation, softmax, or cross entropy should **not** be applied to this."
   ]
  },
  {
   "cell_type": "code",
   "execution_count": 105,
   "metadata": {},
   "outputs": [
    {
     "name": "stdout",
     "output_type": "stream",
     "text": [
      "Tests Passed\n"
     ]
    }
   ],
   "source": [
    "def output(x_tensor, num_outputs):\n",
    "    \"\"\"\n",
    "    Apply a output layer to x_tensor using weight and bias\n",
    "    : x_tensor: A 2-D tensor where the first dimension is batch size.\n",
    "    : num_outputs: The number of output that the new tensor should be.\n",
    "    : return: A 2-D tensor where the second dimension is num_outputs.\n",
    "    \"\"\"\n",
    "    flattened_shape = np.array(x_tensor.get_shape().as_list()[1:]).prod()\n",
    "    # Define trainable variables.\n",
    "    weights = tf.Variable(tf.truncated_normal([flattened_shape, num_outputs], stddev=0.04))\n",
    "    bias = tf.Variable(tf.zeros([num_outputs]))\n",
    "    \n",
    "    # Output layer.    \n",
    "    return tf.add(tf.matmul(x_tensor, weights), bias)\n",
    "\n",
    "\n",
    "\"\"\"\n",
    "DON'T MODIFY ANYTHING IN THIS CELL THAT IS BELOW THIS LINE\n",
    "\"\"\"\n",
    "tests.test_output(output)"
   ]
  },
  {
   "cell_type": "markdown",
   "metadata": {},
   "source": [
    "### Create Convolutional Model\n",
    "Implement the function `conv_net` to create a convolutional neural network model. The function takes in a batch of images, `x`, and outputs logits.  Use the layers you created above to create this model:\n",
    "\n",
    "* Apply 1, 2, or 3 Convolution and Max Pool layers\n",
    "* Apply a Flatten Layer\n",
    "* Apply 1, 2, or 3 Fully Connected Layers\n",
    "* Apply an Output Layer\n",
    "* Return the output\n",
    "* Apply [TensorFlow's Dropout](https://www.tensorflow.org/api_docs/python/tf/nn/dropout) to one or more layers in the model using `keep_prob`. "
   ]
  },
  {
   "cell_type": "code",
   "execution_count": 106,
   "metadata": {},
   "outputs": [
    {
     "name": "stdout",
     "output_type": "stream",
     "text": [
      "Neural Network Built!\n"
     ]
    }
   ],
   "source": [
    "def conv_net(x, keep_prob):\n",
    "    \"\"\"\n",
    "    Create a convolutional neural network model\n",
    "    : x: Placeholder tensor that holds image data.\n",
    "    : keep_prob: Placeholder tensor that hold dropout keep probability.\n",
    "    : return: Tensor that represents logits\n",
    "    \"\"\"\n",
    "    # TODO: Apply 1, 2, or 3 Convolution and Max Pool layers\n",
    "    #    Play around with different number of outputs, kernel size and stride\n",
    "    # Function Definition from Above:\n",
    "    #    conv2d_maxpool(x_tensor, conv_num_outputs, conv_ksize, conv_strides, pool_ksize, pool_strides)\n",
    "    num_classes = 10\n",
    "    conv = conv2d_maxpool(\n",
    "        x,\n",
    "        conv_num_outputs=64,\n",
    "        conv_ksize=[5,5],\n",
    "        conv_strides=[1,1],\n",
    "        pool_ksize=[3,3],\n",
    "        pool_strides=[2,2]\n",
    "    )\n",
    "    \n",
    "    conv = conv2d_maxpool(\n",
    "        conv,\n",
    "        conv_num_outputs=64,\n",
    "        conv_ksize=[5,5],\n",
    "        conv_strides=[1,1],\n",
    "        pool_ksize=[3,3],\n",
    "        pool_strides=[2,2]\n",
    "    )\n",
    "    conv = conv2d_maxpool(\n",
    "        conv,\n",
    "        conv_num_outputs=64,\n",
    "        conv_ksize=[5,5],\n",
    "        conv_strides=[1,1],\n",
    "        pool_ksize=[3,3],\n",
    "        pool_strides=[2,2]\n",
    "    )\n",
    "    \n",
    "    # Apply a Flatten Layer\n",
    "    flattened_conv = flatten(conv)\n",
    "    \n",
    "    # 2 Fully-Connected Layers.\n",
    "    fc = fully_conn(flattened_conv, 384)\n",
    "    fc = fully_conn(fc, 192)\n",
    "    \n",
    "    # Dropout layer.\n",
    "    fc = tf.nn.dropout(fc, keep_prob)\n",
    "    \n",
    "    # Output Layer.\n",
    "    return output(fc, num_classes)\n",
    "\n",
    "\n",
    "\"\"\"\n",
    "DON'T MODIFY ANYTHING IN THIS CELL THAT IS BELOW THIS LINE\n",
    "\"\"\"\n",
    "\n",
    "##############################\n",
    "## Build the Neural Network ##\n",
    "##############################\n",
    "\n",
    "# Remove previous weights, bias, inputs, etc..\n",
    "tf.reset_default_graph()\n",
    "\n",
    "# Inputs\n",
    "x = neural_net_image_input((32, 32, 3))\n",
    "y = neural_net_label_input(10)\n",
    "keep_prob = neural_net_keep_prob_input()\n",
    "\n",
    "# Model\n",
    "logits = conv_net(x, keep_prob)\n",
    "\n",
    "# Name logits Tensor, so that is can be loaded from disk after training\n",
    "logits = tf.identity(logits, name='logits')\n",
    "\n",
    "# Loss and Optimizer\n",
    "cost = tf.reduce_mean(tf.nn.softmax_cross_entropy_with_logits(logits=logits, labels=y))\n",
    "optimizer = tf.train.AdamOptimizer().minimize(cost)\n",
    "\n",
    "# Accuracy\n",
    "correct_pred = tf.equal(tf.argmax(logits, 1), tf.argmax(y, 1))\n",
    "accuracy = tf.reduce_mean(tf.cast(correct_pred, tf.float32), name='accuracy')\n",
    "\n",
    "tests.test_conv_net(conv_net)"
   ]
  },
  {
   "cell_type": "markdown",
   "metadata": {},
   "source": [
    "## Train the Neural Network\n",
    "### Single Optimization\n",
    "Implement the function `train_neural_network` to do a single optimization.  The optimization should use `optimizer` to optimize in `session` with a `feed_dict` of the following:\n",
    "* `x` for image input\n",
    "* `y` for labels\n",
    "* `keep_prob` for keep probability for dropout\n",
    "\n",
    "This function will be called for each batch, so `tf.global_variables_initializer()` has already been called.\n",
    "\n",
    "Note: Nothing needs to be returned. This function is only optimizing the neural network."
   ]
  },
  {
   "cell_type": "code",
   "execution_count": 107,
   "metadata": {},
   "outputs": [
    {
     "name": "stdout",
     "output_type": "stream",
     "text": [
      "Tests Passed\n"
     ]
    }
   ],
   "source": [
    "def train_neural_network(session, optimizer, keep_probability, feature_batch, label_batch):\n",
    "    \"\"\"\n",
    "    Optimize the session on a batch of images and labels\n",
    "    : session: Current TensorFlow session\n",
    "    : optimizer: TensorFlow optimizer function\n",
    "    : keep_probability: keep probability\n",
    "    : feature_batch: Batch of Numpy image data\n",
    "    : label_batch: Batch of Numpy label data\n",
    "    \"\"\"\n",
    "    session.run(\n",
    "        optimizer, \n",
    "        feed_dict={\n",
    "            x: feature_batch,\n",
    "            y: label_batch,\n",
    "            keep_prob: keep_probability\n",
    "        }\n",
    "    )\n",
    "\n",
    "\n",
    "\"\"\"\n",
    "DON'T MODIFY ANYTHING IN THIS CELL THAT IS BELOW THIS LINE\n",
    "\"\"\"\n",
    "tests.test_train_nn(train_neural_network)"
   ]
  },
  {
   "cell_type": "markdown",
   "metadata": {},
   "source": [
    "### Show Stats\n",
    "Implement the function `print_stats` to print loss and validation accuracy.  Use the global variables `valid_features` and `valid_labels` to calculate validation accuracy.  Use a keep probability of `1.0` to calculate the loss and validation accuracy."
   ]
  },
  {
   "cell_type": "code",
   "execution_count": 108,
   "metadata": {
    "collapsed": true
   },
   "outputs": [],
   "source": [
    "def print_stats(session, feature_batch, label_batch, cost, accuracy):\n",
    "    \"\"\"\n",
    "    Print information about loss and validation accuracy\n",
    "    : session: Current TensorFlow session\n",
    "    : feature_batch: Batch of Numpy image data\n",
    "    : label_batch: Batch of Numpy label data\n",
    "    : cost: TensorFlow cost function\n",
    "    : accuracy: TensorFlow accuracy function\n",
    "    \"\"\"\n",
    "    loss = sess.run(\n",
    "        cost, \n",
    "        feed_dict={\n",
    "            x: feature_batch,\n",
    "            y: label_batch,\n",
    "            keep_prob: 1.\n",
    "        }\n",
    "    )\n",
    "    valid_acc = sess.run(\n",
    "        accuracy, \n",
    "        feed_dict={\n",
    "            x: valid_features,\n",
    "            y: valid_labels,\n",
    "            keep_prob: 1.\n",
    "        }\n",
    "    )\n",
    "\n",
    "    print('Loss: {:>10.4f} Validation Accuracy: {:.6f}'.format(loss, valid_acc))"
   ]
  },
  {
   "cell_type": "markdown",
   "metadata": {},
   "source": [
    "### Hyperparameters\n",
    "Tune the following parameters:\n",
    "* Set `epochs` to the number of iterations until the network stops learning or start overfitting\n",
    "* Set `batch_size` to the highest number that your machine has memory for.  Most people set them to common sizes of memory:\n",
    " * 64\n",
    " * 128\n",
    " * 256\n",
    " * ...\n",
    "* Set `keep_probability` to the probability of keeping a node using dropout"
   ]
  },
  {
   "cell_type": "code",
   "execution_count": 115,
   "metadata": {
    "collapsed": true
   },
   "outputs": [],
   "source": [
    "# TODO: Tune Parameters\n",
    "epochs = 50\n",
    "batch_size = 256\n",
    "keep_probability = 0.80"
   ]
  },
  {
   "cell_type": "markdown",
   "metadata": {},
   "source": [
    "### Train on a Single CIFAR-10 Batch\n",
    "Instead of training the neural network on all the CIFAR-10 batches of data, let's use a single batch. This should save time while you iterate on the model to get a better accuracy.  Once the final validation accuracy is 50% or greater, run the model on all the data in the next section."
   ]
  },
  {
   "cell_type": "code",
   "execution_count": 117,
   "metadata": {},
   "outputs": [
    {
     "name": "stdout",
     "output_type": "stream",
     "text": [
      "Checking the Training on a Single Batch...\n",
      "Epoch  1, CIFAR-10 Batch 1:  Loss:     2.0611 Validation Accuracy: 0.313400\n",
      "Epoch  2, CIFAR-10 Batch 1:  Loss:     1.8548 Validation Accuracy: 0.368600\n",
      "Epoch  3, CIFAR-10 Batch 1:  Loss:     1.6880 Validation Accuracy: 0.418200\n",
      "Epoch  4, CIFAR-10 Batch 1:  Loss:     1.4153 Validation Accuracy: 0.442800\n",
      "Epoch  5, CIFAR-10 Batch 1:  Loss:     1.2416 Validation Accuracy: 0.483800\n",
      "Epoch  6, CIFAR-10 Batch 1:  Loss:     1.1127 Validation Accuracy: 0.504800\n",
      "Epoch  7, CIFAR-10 Batch 1:  Loss:     1.0101 Validation Accuracy: 0.514400\n",
      "Epoch  8, CIFAR-10 Batch 1:  Loss:     0.8356 Validation Accuracy: 0.533200\n",
      "Epoch  9, CIFAR-10 Batch 1:  Loss:     0.7513 Validation Accuracy: 0.528000\n",
      "Epoch 10, CIFAR-10 Batch 1:  Loss:     0.6611 Validation Accuracy: 0.541000\n",
      "Epoch 11, CIFAR-10 Batch 1:  Loss:     0.5839 Validation Accuracy: 0.550400\n",
      "Epoch 12, CIFAR-10 Batch 1:  Loss:     0.5469 Validation Accuracy: 0.531800\n",
      "Epoch 13, CIFAR-10 Batch 1:  Loss:     0.3583 Validation Accuracy: 0.570200\n",
      "Epoch 14, CIFAR-10 Batch 1:  Loss:     0.3507 Validation Accuracy: 0.574600\n",
      "Epoch 15, CIFAR-10 Batch 1:  Loss:     0.3696 Validation Accuracy: 0.540200\n",
      "Epoch 16, CIFAR-10 Batch 1:  Loss:     0.2148 Validation Accuracy: 0.594400\n",
      "Epoch 17, CIFAR-10 Batch 1:  Loss:     0.2515 Validation Accuracy: 0.559000\n",
      "Epoch 18, CIFAR-10 Batch 1:  Loss:     0.2330 Validation Accuracy: 0.532800\n",
      "Epoch 19, CIFAR-10 Batch 1:  Loss:     0.1531 Validation Accuracy: 0.599000\n",
      "Epoch 20, CIFAR-10 Batch 1:  Loss:     0.1365 Validation Accuracy: 0.586000\n",
      "Epoch 21, CIFAR-10 Batch 1:  Loss:     0.0990 Validation Accuracy: 0.570200\n",
      "Epoch 22, CIFAR-10 Batch 1:  Loss:     0.1033 Validation Accuracy: 0.581600\n",
      "Epoch 23, CIFAR-10 Batch 1:  Loss:     0.0940 Validation Accuracy: 0.576000\n",
      "Epoch 24, CIFAR-10 Batch 1:  Loss:     0.0757 Validation Accuracy: 0.593800\n",
      "Epoch 25, CIFAR-10 Batch 1:  Loss:     0.0944 Validation Accuracy: 0.545600\n",
      "Epoch 26, CIFAR-10 Batch 1:  Loss:     0.0564 Validation Accuracy: 0.595200\n",
      "Epoch 27, CIFAR-10 Batch 1:  Loss:     0.0361 Validation Accuracy: 0.598800\n",
      "Epoch 28, CIFAR-10 Batch 1:  Loss:     0.0234 Validation Accuracy: 0.602200\n",
      "Epoch 29, CIFAR-10 Batch 1:  Loss:     0.0170 Validation Accuracy: 0.583000\n",
      "Epoch 30, CIFAR-10 Batch 1:  Loss:     0.0363 Validation Accuracy: 0.566000\n",
      "Epoch 31, CIFAR-10 Batch 1:  Loss:     0.0215 Validation Accuracy: 0.595000\n",
      "Epoch 32, CIFAR-10 Batch 1:  Loss:     0.0462 Validation Accuracy: 0.592400\n",
      "Epoch 33, CIFAR-10 Batch 1:  Loss:     0.0085 Validation Accuracy: 0.612600\n",
      "Epoch 34, CIFAR-10 Batch 1:  Loss:     0.0208 Validation Accuracy: 0.587000\n",
      "Epoch 35, CIFAR-10 Batch 1:  Loss:     0.0132 Validation Accuracy: 0.591600\n",
      "Epoch 36, CIFAR-10 Batch 1:  Loss:     0.0073 Validation Accuracy: 0.613200\n",
      "Epoch 37, CIFAR-10 Batch 1:  Loss:     0.0286 Validation Accuracy: 0.564600\n",
      "Epoch 38, CIFAR-10 Batch 1:  Loss:     0.0081 Validation Accuracy: 0.598400\n",
      "Epoch 39, CIFAR-10 Batch 1:  Loss:     0.0049 Validation Accuracy: 0.590600\n",
      "Epoch 40, CIFAR-10 Batch 1:  Loss:     0.0076 Validation Accuracy: 0.569200\n",
      "Epoch 41, CIFAR-10 Batch 1:  Loss:     0.0018 Validation Accuracy: 0.574400\n",
      "Epoch 42, CIFAR-10 Batch 1:  Loss:     0.0145 Validation Accuracy: 0.589200\n",
      "Epoch 43, CIFAR-10 Batch 1:  Loss:     0.0028 Validation Accuracy: 0.587600\n",
      "Epoch 44, CIFAR-10 Batch 1:  Loss:     0.0017 Validation Accuracy: 0.595800\n",
      "Epoch 45, CIFAR-10 Batch 1:  Loss:     0.0051 Validation Accuracy: 0.577600\n",
      "Epoch 46, CIFAR-10 Batch 1:  Loss:     0.0009 Validation Accuracy: 0.596600\n",
      "Epoch 47, CIFAR-10 Batch 1:  Loss:     0.0010 Validation Accuracy: 0.605400\n",
      "Epoch 48, CIFAR-10 Batch 1:  Loss:     0.0005 Validation Accuracy: 0.602200\n",
      "Epoch 49, CIFAR-10 Batch 1:  Loss:     0.0004 Validation Accuracy: 0.605400\n",
      "Epoch 50, CIFAR-10 Batch 1:  Loss:     0.0006 Validation Accuracy: 0.585200\n"
     ]
    }
   ],
   "source": [
    "\"\"\"\n",
    "DON'T MODIFY ANYTHING IN THIS CELL\n",
    "\"\"\"\n",
    "print('Checking the Training on a Single Batch...')\n",
    "with tf.Session() as sess:\n",
    "    # Initializing the variables\n",
    "    sess.run(tf.global_variables_initializer())\n",
    "    \n",
    "    # Training cycle\n",
    "    for epoch in range(epochs):\n",
    "        batch_i = 1\n",
    "        for batch_features, batch_labels in helper.load_preprocess_training_batch(batch_i, batch_size):\n",
    "            train_neural_network(sess, optimizer, keep_probability, batch_features, batch_labels)\n",
    "        print('Epoch {:>2}, CIFAR-10 Batch {}:  '.format(epoch + 1, batch_i), end='')\n",
    "        print_stats(sess, batch_features, batch_labels, cost, accuracy)"
   ]
  },
  {
   "cell_type": "markdown",
   "metadata": {},
   "source": [
    "### Fully Train the Model\n",
    "Now that you got a good accuracy with a single CIFAR-10 batch, try it with all five batches."
   ]
  },
  {
   "cell_type": "code",
   "execution_count": 119,
   "metadata": {},
   "outputs": [
    {
     "name": "stdout",
     "output_type": "stream",
     "text": [
      "Training...\n",
      "Epoch  1, CIFAR-10 Batch 1:  Loss:     2.0320 Validation Accuracy: 0.344200\n",
      "Epoch  1, CIFAR-10 Batch 2:  Loss:     1.7049 Validation Accuracy: 0.384000\n",
      "Epoch  1, CIFAR-10 Batch 3:  Loss:     1.3646 Validation Accuracy: 0.404800\n",
      "Epoch  1, CIFAR-10 Batch 4:  Loss:     1.4338 Validation Accuracy: 0.437400\n",
      "Epoch  1, CIFAR-10 Batch 5:  Loss:     1.3663 Validation Accuracy: 0.502800\n",
      "Epoch  2, CIFAR-10 Batch 1:  Loss:     1.3764 Validation Accuracy: 0.475200\n",
      "Epoch  2, CIFAR-10 Batch 2:  Loss:     1.2174 Validation Accuracy: 0.497200\n",
      "Epoch  2, CIFAR-10 Batch 3:  Loss:     0.9207 Validation Accuracy: 0.513400\n",
      "Epoch  2, CIFAR-10 Batch 4:  Loss:     1.0549 Validation Accuracy: 0.562800\n",
      "Epoch  2, CIFAR-10 Batch 5:  Loss:     1.1061 Validation Accuracy: 0.571600\n",
      "Epoch  3, CIFAR-10 Batch 1:  Loss:     1.0305 Validation Accuracy: 0.571000\n",
      "Epoch  3, CIFAR-10 Batch 2:  Loss:     0.8961 Validation Accuracy: 0.579800\n",
      "Epoch  3, CIFAR-10 Batch 3:  Loss:     0.5824 Validation Accuracy: 0.580800\n",
      "Epoch  3, CIFAR-10 Batch 4:  Loss:     0.7182 Validation Accuracy: 0.635200\n",
      "Epoch  3, CIFAR-10 Batch 5:  Loss:     0.8258 Validation Accuracy: 0.636000\n",
      "Epoch  4, CIFAR-10 Batch 1:  Loss:     0.7822 Validation Accuracy: 0.602600\n",
      "Epoch  4, CIFAR-10 Batch 2:  Loss:     0.6498 Validation Accuracy: 0.623400\n",
      "Epoch  4, CIFAR-10 Batch 3:  Loss:     0.3670 Validation Accuracy: 0.653000\n",
      "Epoch  4, CIFAR-10 Batch 4:  Loss:     0.5600 Validation Accuracy: 0.630600\n",
      "Epoch  4, CIFAR-10 Batch 5:  Loss:     0.5335 Validation Accuracy: 0.662400\n",
      "Epoch  5, CIFAR-10 Batch 1:  Loss:     0.6232 Validation Accuracy: 0.642600\n",
      "Epoch  5, CIFAR-10 Batch 2:  Loss:     0.3627 Validation Accuracy: 0.670400\n",
      "Epoch  5, CIFAR-10 Batch 3:  Loss:     0.2644 Validation Accuracy: 0.669800\n",
      "Epoch  5, CIFAR-10 Batch 4:  Loss:     0.4091 Validation Accuracy: 0.681800\n",
      "Epoch  5, CIFAR-10 Batch 5:  Loss:     0.3286 Validation Accuracy: 0.686800\n",
      "Epoch  6, CIFAR-10 Batch 1:  Loss:     0.3622 Validation Accuracy: 0.666800\n",
      "Epoch  6, CIFAR-10 Batch 2:  Loss:     0.2945 Validation Accuracy: 0.674600\n",
      "Epoch  6, CIFAR-10 Batch 3:  Loss:     0.2267 Validation Accuracy: 0.697600\n",
      "Epoch  6, CIFAR-10 Batch 4:  Loss:     0.3951 Validation Accuracy: 0.647600\n",
      "Epoch  6, CIFAR-10 Batch 5:  Loss:     0.2176 Validation Accuracy: 0.693000\n",
      "Epoch  7, CIFAR-10 Batch 1:  Loss:     0.3278 Validation Accuracy: 0.657800\n",
      "Epoch  7, CIFAR-10 Batch 2:  Loss:     0.2032 Validation Accuracy: 0.678800\n",
      "Epoch  7, CIFAR-10 Batch 3:  Loss:     0.1997 Validation Accuracy: 0.673400\n",
      "Epoch  7, CIFAR-10 Batch 4:  Loss:     0.2456 Validation Accuracy: 0.692800\n",
      "Epoch  7, CIFAR-10 Batch 5:  Loss:     0.1674 Validation Accuracy: 0.700400\n",
      "Epoch  8, CIFAR-10 Batch 1:  Loss:     0.2324 Validation Accuracy: 0.681600\n",
      "Epoch  8, CIFAR-10 Batch 2:  Loss:     0.2121 Validation Accuracy: 0.682600\n",
      "Epoch  8, CIFAR-10 Batch 3:  Loss:     0.1552 Validation Accuracy: 0.700800\n",
      "Epoch  8, CIFAR-10 Batch 4:  Loss:     0.1667 Validation Accuracy: 0.710000\n",
      "Epoch  8, CIFAR-10 Batch 5:  Loss:     0.1390 Validation Accuracy: 0.717600\n",
      "Epoch  9, CIFAR-10 Batch 1:  Loss:     0.1369 Validation Accuracy: 0.708800\n",
      "Epoch  9, CIFAR-10 Batch 2:  Loss:     0.1426 Validation Accuracy: 0.697200\n",
      "Epoch  9, CIFAR-10 Batch 3:  Loss:     0.1687 Validation Accuracy: 0.683800\n",
      "Epoch  9, CIFAR-10 Batch 4:  Loss:     0.1363 Validation Accuracy: 0.701000\n",
      "Epoch  9, CIFAR-10 Batch 5:  Loss:     0.0983 Validation Accuracy: 0.703400\n",
      "Epoch 10, CIFAR-10 Batch 1:  Loss:     0.1160 Validation Accuracy: 0.711400\n",
      "Epoch 10, CIFAR-10 Batch 2:  Loss:     0.1294 Validation Accuracy: 0.701600\n",
      "Epoch 10, CIFAR-10 Batch 3:  Loss:     0.0945 Validation Accuracy: 0.716600\n",
      "Epoch 10, CIFAR-10 Batch 4:  Loss:     0.0841 Validation Accuracy: 0.712800\n",
      "Epoch 10, CIFAR-10 Batch 5:  Loss:     0.0676 Validation Accuracy: 0.712200\n",
      "Epoch 11, CIFAR-10 Batch 1:  Loss:     0.0898 Validation Accuracy: 0.701000\n",
      "Epoch 11, CIFAR-10 Batch 2:  Loss:     0.0870 Validation Accuracy: 0.716000\n",
      "Epoch 11, CIFAR-10 Batch 3:  Loss:     0.0740 Validation Accuracy: 0.701800\n",
      "Epoch 11, CIFAR-10 Batch 4:  Loss:     0.0572 Validation Accuracy: 0.706400\n",
      "Epoch 11, CIFAR-10 Batch 5:  Loss:     0.0455 Validation Accuracy: 0.709800\n",
      "Epoch 12, CIFAR-10 Batch 1:  Loss:     0.0630 Validation Accuracy: 0.701000\n",
      "Epoch 12, CIFAR-10 Batch 2:  Loss:     0.0711 Validation Accuracy: 0.708600\n",
      "Epoch 12, CIFAR-10 Batch 3:  Loss:     0.0664 Validation Accuracy: 0.714800\n",
      "Epoch 12, CIFAR-10 Batch 4:  Loss:     0.0552 Validation Accuracy: 0.699400\n",
      "Epoch 12, CIFAR-10 Batch 5:  Loss:     0.0373 Validation Accuracy: 0.713800\n",
      "Epoch 13, CIFAR-10 Batch 1:  Loss:     0.0609 Validation Accuracy: 0.707000\n",
      "Epoch 13, CIFAR-10 Batch 2:  Loss:     0.0715 Validation Accuracy: 0.702800\n",
      "Epoch 13, CIFAR-10 Batch 3:  Loss:     0.0486 Validation Accuracy: 0.703400\n",
      "Epoch 13, CIFAR-10 Batch 4:  Loss:     0.0595 Validation Accuracy: 0.713400\n",
      "Epoch 13, CIFAR-10 Batch 5:  Loss:     0.0311 Validation Accuracy: 0.711200\n",
      "Epoch 14, CIFAR-10 Batch 1:  Loss:     0.0583 Validation Accuracy: 0.688200\n",
      "Epoch 14, CIFAR-10 Batch 2:  Loss:     0.0752 Validation Accuracy: 0.689600\n",
      "Epoch 14, CIFAR-10 Batch 3:  Loss:     0.0487 Validation Accuracy: 0.713400\n",
      "Epoch 14, CIFAR-10 Batch 4:  Loss:     0.0402 Validation Accuracy: 0.719000\n",
      "Epoch 14, CIFAR-10 Batch 5:  Loss:     0.0198 Validation Accuracy: 0.708600\n",
      "Epoch 15, CIFAR-10 Batch 1:  Loss:     0.0648 Validation Accuracy: 0.698600\n",
      "Epoch 15, CIFAR-10 Batch 2:  Loss:     0.0525 Validation Accuracy: 0.704800\n",
      "Epoch 15, CIFAR-10 Batch 3:  Loss:     0.0272 Validation Accuracy: 0.699600\n",
      "Epoch 15, CIFAR-10 Batch 4:  Loss:     0.0755 Validation Accuracy: 0.697000\n",
      "Epoch 15, CIFAR-10 Batch 5:  Loss:     0.0218 Validation Accuracy: 0.710400\n",
      "Epoch 16, CIFAR-10 Batch 1:  Loss:     0.0464 Validation Accuracy: 0.714200\n",
      "Epoch 16, CIFAR-10 Batch 2:  Loss:     0.0492 Validation Accuracy: 0.704800\n",
      "Epoch 16, CIFAR-10 Batch 3:  Loss:     0.0359 Validation Accuracy: 0.688600\n",
      "Epoch 16, CIFAR-10 Batch 4:  Loss:     0.0296 Validation Accuracy: 0.711000\n",
      "Epoch 16, CIFAR-10 Batch 5:  Loss:     0.0150 Validation Accuracy: 0.695000\n",
      "Epoch 17, CIFAR-10 Batch 1:  Loss:     0.0539 Validation Accuracy: 0.692200\n",
      "Epoch 17, CIFAR-10 Batch 2:  Loss:     0.0370 Validation Accuracy: 0.705800\n",
      "Epoch 17, CIFAR-10 Batch 3:  Loss:     0.0478 Validation Accuracy: 0.695800\n",
      "Epoch 17, CIFAR-10 Batch 4:  Loss:     0.0154 Validation Accuracy: 0.711400\n",
      "Epoch 17, CIFAR-10 Batch 5:  Loss:     0.0273 Validation Accuracy: 0.682000\n",
      "Epoch 18, CIFAR-10 Batch 1:  Loss:     0.0403 Validation Accuracy: 0.702200\n",
      "Epoch 18, CIFAR-10 Batch 2:  Loss:     0.0160 Validation Accuracy: 0.705000\n",
      "Epoch 18, CIFAR-10 Batch 3:  Loss:     0.0142 Validation Accuracy: 0.716200\n",
      "Epoch 18, CIFAR-10 Batch 4:  Loss:     0.0152 Validation Accuracy: 0.697200\n",
      "Epoch 18, CIFAR-10 Batch 5:  Loss:     0.0163 Validation Accuracy: 0.706200\n",
      "Epoch 19, CIFAR-10 Batch 1:  Loss:     0.0188 Validation Accuracy: 0.712600\n",
      "Epoch 19, CIFAR-10 Batch 2:  Loss:     0.0189 Validation Accuracy: 0.685000\n",
      "Epoch 19, CIFAR-10 Batch 3:  Loss:     0.0158 Validation Accuracy: 0.703200\n",
      "Epoch 19, CIFAR-10 Batch 4:  Loss:     0.0127 Validation Accuracy: 0.708400\n",
      "Epoch 19, CIFAR-10 Batch 5:  Loss:     0.0179 Validation Accuracy: 0.715000\n",
      "Epoch 20, CIFAR-10 Batch 1:  Loss:     0.0137 Validation Accuracy: 0.712800\n",
      "Epoch 20, CIFAR-10 Batch 2:  Loss:     0.0403 Validation Accuracy: 0.680000\n",
      "Epoch 20, CIFAR-10 Batch 3:  Loss:     0.0144 Validation Accuracy: 0.703000\n",
      "Epoch 20, CIFAR-10 Batch 4:  Loss:     0.0173 Validation Accuracy: 0.717200\n",
      "Epoch 20, CIFAR-10 Batch 5:  Loss:     0.0110 Validation Accuracy: 0.714000\n",
      "Epoch 21, CIFAR-10 Batch 1:  Loss:     0.0307 Validation Accuracy: 0.718400\n",
      "Epoch 21, CIFAR-10 Batch 2:  Loss:     0.0189 Validation Accuracy: 0.705000\n",
      "Epoch 21, CIFAR-10 Batch 3:  Loss:     0.0046 Validation Accuracy: 0.698200\n",
      "Epoch 21, CIFAR-10 Batch 4:  Loss:     0.0151 Validation Accuracy: 0.706200\n",
      "Epoch 21, CIFAR-10 Batch 5:  Loss:     0.0280 Validation Accuracy: 0.705000\n",
      "Epoch 22, CIFAR-10 Batch 1:  Loss:     0.0083 Validation Accuracy: 0.718400\n",
      "Epoch 22, CIFAR-10 Batch 2:  Loss:     0.0044 Validation Accuracy: 0.705200\n",
      "Epoch 22, CIFAR-10 Batch 3:  Loss:     0.0131 Validation Accuracy: 0.697200\n"
     ]
    },
    {
     "name": "stdout",
     "output_type": "stream",
     "text": [
      "Epoch 22, CIFAR-10 Batch 4:  Loss:     0.0140 Validation Accuracy: 0.691400\n",
      "Epoch 22, CIFAR-10 Batch 5:  Loss:     0.0137 Validation Accuracy: 0.710000\n",
      "Epoch 23, CIFAR-10 Batch 1:  Loss:     0.0143 Validation Accuracy: 0.713400\n",
      "Epoch 23, CIFAR-10 Batch 2:  Loss:     0.0062 Validation Accuracy: 0.718000\n",
      "Epoch 23, CIFAR-10 Batch 3:  Loss:     0.0187 Validation Accuracy: 0.691400\n",
      "Epoch 23, CIFAR-10 Batch 4:  Loss:     0.0162 Validation Accuracy: 0.692200\n",
      "Epoch 23, CIFAR-10 Batch 5:  Loss:     0.0130 Validation Accuracy: 0.688400\n",
      "Epoch 24, CIFAR-10 Batch 1:  Loss:     0.0064 Validation Accuracy: 0.722600\n",
      "Epoch 24, CIFAR-10 Batch 2:  Loss:     0.0104 Validation Accuracy: 0.700800\n",
      "Epoch 24, CIFAR-10 Batch 3:  Loss:     0.0107 Validation Accuracy: 0.672200\n",
      "Epoch 24, CIFAR-10 Batch 4:  Loss:     0.0108 Validation Accuracy: 0.700000\n",
      "Epoch 24, CIFAR-10 Batch 5:  Loss:     0.0193 Validation Accuracy: 0.687400\n",
      "Epoch 25, CIFAR-10 Batch 1:  Loss:     0.0099 Validation Accuracy: 0.693400\n",
      "Epoch 25, CIFAR-10 Batch 2:  Loss:     0.0156 Validation Accuracy: 0.719600\n",
      "Epoch 25, CIFAR-10 Batch 3:  Loss:     0.0117 Validation Accuracy: 0.694200\n",
      "Epoch 25, CIFAR-10 Batch 4:  Loss:     0.0071 Validation Accuracy: 0.710200\n",
      "Epoch 25, CIFAR-10 Batch 5:  Loss:     0.0036 Validation Accuracy: 0.708200\n",
      "Epoch 26, CIFAR-10 Batch 1:  Loss:     0.0031 Validation Accuracy: 0.709600\n",
      "Epoch 26, CIFAR-10 Batch 2:  Loss:     0.0114 Validation Accuracy: 0.720400\n",
      "Epoch 26, CIFAR-10 Batch 3:  Loss:     0.0050 Validation Accuracy: 0.698000\n",
      "Epoch 26, CIFAR-10 Batch 4:  Loss:     0.0028 Validation Accuracy: 0.712200\n",
      "Epoch 26, CIFAR-10 Batch 5:  Loss:     0.0040 Validation Accuracy: 0.719000\n",
      "Epoch 27, CIFAR-10 Batch 1:  Loss:     0.0021 Validation Accuracy: 0.716200\n",
      "Epoch 27, CIFAR-10 Batch 2:  Loss:     0.0127 Validation Accuracy: 0.724000\n",
      "Epoch 27, CIFAR-10 Batch 3:  Loss:     0.0045 Validation Accuracy: 0.715200\n",
      "Epoch 27, CIFAR-10 Batch 4:  Loss:     0.0043 Validation Accuracy: 0.707000\n",
      "Epoch 27, CIFAR-10 Batch 5:  Loss:     0.0071 Validation Accuracy: 0.708200\n",
      "Epoch 28, CIFAR-10 Batch 1:  Loss:     0.0038 Validation Accuracy: 0.728400\n",
      "Epoch 28, CIFAR-10 Batch 2:  Loss:     0.0020 Validation Accuracy: 0.717400\n",
      "Epoch 28, CIFAR-10 Batch 3:  Loss:     0.0057 Validation Accuracy: 0.700600\n",
      "Epoch 28, CIFAR-10 Batch 4:  Loss:     0.0035 Validation Accuracy: 0.707400\n",
      "Epoch 28, CIFAR-10 Batch 5:  Loss:     0.0044 Validation Accuracy: 0.723600\n",
      "Epoch 29, CIFAR-10 Batch 1:  Loss:     0.0134 Validation Accuracy: 0.711200\n",
      "Epoch 29, CIFAR-10 Batch 2:  Loss:     0.0017 Validation Accuracy: 0.726400\n",
      "Epoch 29, CIFAR-10 Batch 3:  Loss:     0.0016 Validation Accuracy: 0.688800\n",
      "Epoch 29, CIFAR-10 Batch 4:  Loss:     0.0014 Validation Accuracy: 0.686000\n",
      "Epoch 29, CIFAR-10 Batch 5:  Loss:     0.0031 Validation Accuracy: 0.715600\n",
      "Epoch 30, CIFAR-10 Batch 1:  Loss:     0.0019 Validation Accuracy: 0.716200\n",
      "Epoch 30, CIFAR-10 Batch 2:  Loss:     0.0060 Validation Accuracy: 0.693200\n",
      "Epoch 30, CIFAR-10 Batch 3:  Loss:     0.0021 Validation Accuracy: 0.713400\n",
      "Epoch 30, CIFAR-10 Batch 4:  Loss:     0.0023 Validation Accuracy: 0.708000\n",
      "Epoch 30, CIFAR-10 Batch 5:  Loss:     0.0033 Validation Accuracy: 0.709600\n",
      "Epoch 31, CIFAR-10 Batch 1:  Loss:     0.0010 Validation Accuracy: 0.715800\n",
      "Epoch 31, CIFAR-10 Batch 2:  Loss:     0.0040 Validation Accuracy: 0.708400\n",
      "Epoch 31, CIFAR-10 Batch 3:  Loss:     0.0008 Validation Accuracy: 0.711400\n",
      "Epoch 31, CIFAR-10 Batch 4:  Loss:     0.0020 Validation Accuracy: 0.707000\n",
      "Epoch 31, CIFAR-10 Batch 5:  Loss:     0.0050 Validation Accuracy: 0.694800\n",
      "Epoch 32, CIFAR-10 Batch 1:  Loss:     0.0007 Validation Accuracy: 0.723800\n",
      "Epoch 32, CIFAR-10 Batch 2:  Loss:     0.0049 Validation Accuracy: 0.708200\n",
      "Epoch 32, CIFAR-10 Batch 3:  Loss:     0.0112 Validation Accuracy: 0.717600\n",
      "Epoch 32, CIFAR-10 Batch 4:  Loss:     0.0032 Validation Accuracy: 0.685400\n",
      "Epoch 32, CIFAR-10 Batch 5:  Loss:     0.0036 Validation Accuracy: 0.719200\n",
      "Epoch 33, CIFAR-10 Batch 1:  Loss:     0.0035 Validation Accuracy: 0.722000\n",
      "Epoch 33, CIFAR-10 Batch 2:  Loss:     0.0076 Validation Accuracy: 0.707200\n",
      "Epoch 33, CIFAR-10 Batch 3:  Loss:     0.0014 Validation Accuracy: 0.723800\n",
      "Epoch 33, CIFAR-10 Batch 4:  Loss:     0.0009 Validation Accuracy: 0.703000\n",
      "Epoch 33, CIFAR-10 Batch 5:  Loss:     0.0177 Validation Accuracy: 0.718400\n",
      "Epoch 34, CIFAR-10 Batch 1:  Loss:     0.0036 Validation Accuracy: 0.718600\n",
      "Epoch 34, CIFAR-10 Batch 2:  Loss:     0.0030 Validation Accuracy: 0.692200\n",
      "Epoch 34, CIFAR-10 Batch 3:  Loss:     0.0025 Validation Accuracy: 0.718800\n",
      "Epoch 34, CIFAR-10 Batch 4:  Loss:     0.0021 Validation Accuracy: 0.705400\n",
      "Epoch 34, CIFAR-10 Batch 5:  Loss:     0.0036 Validation Accuracy: 0.725400\n",
      "Epoch 35, CIFAR-10 Batch 1:  Loss:     0.0008 Validation Accuracy: 0.720000\n",
      "Epoch 35, CIFAR-10 Batch 2:  Loss:     0.0031 Validation Accuracy: 0.705600\n",
      "Epoch 35, CIFAR-10 Batch 3:  Loss:     0.0005 Validation Accuracy: 0.726800\n",
      "Epoch 35, CIFAR-10 Batch 4:  Loss:     0.0007 Validation Accuracy: 0.727800\n",
      "Epoch 35, CIFAR-10 Batch 5:  Loss:     0.0025 Validation Accuracy: 0.708800\n",
      "Epoch 36, CIFAR-10 Batch 1:  Loss:     0.0007 Validation Accuracy: 0.718400\n",
      "Epoch 36, CIFAR-10 Batch 2:  Loss:     0.0003 Validation Accuracy: 0.711200\n",
      "Epoch 36, CIFAR-10 Batch 3:  Loss:     0.0006 Validation Accuracy: 0.713200\n",
      "Epoch 36, CIFAR-10 Batch 4:  Loss:     0.0006 Validation Accuracy: 0.703000\n",
      "Epoch 36, CIFAR-10 Batch 5:  Loss:     0.0023 Validation Accuracy: 0.702400\n",
      "Epoch 37, CIFAR-10 Batch 1:  Loss:     0.0008 Validation Accuracy: 0.708200\n",
      "Epoch 37, CIFAR-10 Batch 2:  Loss:     0.0011 Validation Accuracy: 0.703400\n",
      "Epoch 37, CIFAR-10 Batch 3:  Loss:     0.0012 Validation Accuracy: 0.725200\n",
      "Epoch 37, CIFAR-10 Batch 4:  Loss:     0.0010 Validation Accuracy: 0.707000\n",
      "Epoch 37, CIFAR-10 Batch 5:  Loss:     0.0008 Validation Accuracy: 0.711600\n",
      "Epoch 38, CIFAR-10 Batch 1:  Loss:     0.0016 Validation Accuracy: 0.729200\n",
      "Epoch 38, CIFAR-10 Batch 2:  Loss:     0.0017 Validation Accuracy: 0.712400\n",
      "Epoch 38, CIFAR-10 Batch 3:  Loss:     0.0013 Validation Accuracy: 0.722400\n",
      "Epoch 38, CIFAR-10 Batch 4:  Loss:     0.0003 Validation Accuracy: 0.713000\n",
      "Epoch 38, CIFAR-10 Batch 5:  Loss:     0.0008 Validation Accuracy: 0.722000\n",
      "Epoch 39, CIFAR-10 Batch 1:  Loss:     0.0013 Validation Accuracy: 0.715800\n",
      "Epoch 39, CIFAR-10 Batch 2:  Loss:     0.0023 Validation Accuracy: 0.705200\n",
      "Epoch 39, CIFAR-10 Batch 3:  Loss:     0.0009 Validation Accuracy: 0.708200\n",
      "Epoch 39, CIFAR-10 Batch 4:  Loss:     0.0010 Validation Accuracy: 0.715600\n",
      "Epoch 39, CIFAR-10 Batch 5:  Loss:     0.0019 Validation Accuracy: 0.721800\n",
      "Epoch 40, CIFAR-10 Batch 1:  Loss:     0.0020 Validation Accuracy: 0.724400\n",
      "Epoch 40, CIFAR-10 Batch 2:  Loss:     0.0016 Validation Accuracy: 0.696200\n",
      "Epoch 40, CIFAR-10 Batch 3:  Loss:     0.0015 Validation Accuracy: 0.715200\n",
      "Epoch 40, CIFAR-10 Batch 4:  Loss:     0.0002 Validation Accuracy: 0.711800\n",
      "Epoch 40, CIFAR-10 Batch 5:  Loss:     0.0034 Validation Accuracy: 0.705800\n",
      "Epoch 41, CIFAR-10 Batch 1:  Loss:     0.0004 Validation Accuracy: 0.708200\n",
      "Epoch 41, CIFAR-10 Batch 2:  Loss:     0.0019 Validation Accuracy: 0.711400\n",
      "Epoch 41, CIFAR-10 Batch 3:  Loss:     0.0032 Validation Accuracy: 0.716000\n",
      "Epoch 41, CIFAR-10 Batch 4:  Loss:     0.0010 Validation Accuracy: 0.712400\n",
      "Epoch 41, CIFAR-10 Batch 5:  Loss:     0.0015 Validation Accuracy: 0.699200\n",
      "Epoch 42, CIFAR-10 Batch 1:  Loss:     0.0003 Validation Accuracy: 0.719800\n",
      "Epoch 42, CIFAR-10 Batch 2:  Loss:     0.0026 Validation Accuracy: 0.700600\n",
      "Epoch 42, CIFAR-10 Batch 3:  Loss:     0.0023 Validation Accuracy: 0.723000\n",
      "Epoch 42, CIFAR-10 Batch 4:  Loss:     0.0013 Validation Accuracy: 0.720800\n",
      "Epoch 42, CIFAR-10 Batch 5:  Loss:     0.0022 Validation Accuracy: 0.706200\n",
      "Epoch 43, CIFAR-10 Batch 1:  Loss:     0.0001 Validation Accuracy: 0.714800\n",
      "Epoch 43, CIFAR-10 Batch 2:  Loss:     0.0012 Validation Accuracy: 0.708600\n",
      "Epoch 43, CIFAR-10 Batch 3:  Loss:     0.0006 Validation Accuracy: 0.705000\n",
      "Epoch 43, CIFAR-10 Batch 4:  Loss:     0.0004 Validation Accuracy: 0.717400\n",
      "Epoch 43, CIFAR-10 Batch 5:  Loss:     0.0013 Validation Accuracy: 0.715400\n",
      "Epoch 44, CIFAR-10 Batch 1:  Loss:     0.0030 Validation Accuracy: 0.708600\n"
     ]
    },
    {
     "name": "stdout",
     "output_type": "stream",
     "text": [
      "Epoch 44, CIFAR-10 Batch 2:  Loss:     0.0016 Validation Accuracy: 0.705600\n",
      "Epoch 44, CIFAR-10 Batch 3:  Loss:     0.0006 Validation Accuracy: 0.720600\n",
      "Epoch 44, CIFAR-10 Batch 4:  Loss:     0.0017 Validation Accuracy: 0.717000\n",
      "Epoch 44, CIFAR-10 Batch 5:  Loss:     0.0003 Validation Accuracy: 0.721600\n",
      "Epoch 45, CIFAR-10 Batch 1:  Loss:     0.0007 Validation Accuracy: 0.721600\n",
      "Epoch 45, CIFAR-10 Batch 2:  Loss:     0.0006 Validation Accuracy: 0.714600\n",
      "Epoch 45, CIFAR-10 Batch 3:  Loss:     0.0009 Validation Accuracy: 0.713600\n",
      "Epoch 45, CIFAR-10 Batch 4:  Loss:     0.0008 Validation Accuracy: 0.711800\n",
      "Epoch 45, CIFAR-10 Batch 5:  Loss:     0.0002 Validation Accuracy: 0.726800\n",
      "Epoch 46, CIFAR-10 Batch 1:  Loss:     0.0003 Validation Accuracy: 0.719400\n",
      "Epoch 46, CIFAR-10 Batch 2:  Loss:     0.0033 Validation Accuracy: 0.711000\n",
      "Epoch 46, CIFAR-10 Batch 3:  Loss:     0.0015 Validation Accuracy: 0.721200\n",
      "Epoch 46, CIFAR-10 Batch 4:  Loss:     0.0014 Validation Accuracy: 0.703800\n",
      "Epoch 46, CIFAR-10 Batch 5:  Loss:     0.0001 Validation Accuracy: 0.726400\n",
      "Epoch 47, CIFAR-10 Batch 1:  Loss:     0.0016 Validation Accuracy: 0.710000\n",
      "Epoch 47, CIFAR-10 Batch 2:  Loss:     0.0007 Validation Accuracy: 0.712000\n",
      "Epoch 47, CIFAR-10 Batch 3:  Loss:     0.0016 Validation Accuracy: 0.722000\n",
      "Epoch 47, CIFAR-10 Batch 4:  Loss:     0.0004 Validation Accuracy: 0.692400\n",
      "Epoch 47, CIFAR-10 Batch 5:  Loss:     0.0002 Validation Accuracy: 0.729200\n",
      "Epoch 48, CIFAR-10 Batch 1:  Loss:     0.0008 Validation Accuracy: 0.716400\n",
      "Epoch 48, CIFAR-10 Batch 2:  Loss:     0.0004 Validation Accuracy: 0.727200\n",
      "Epoch 48, CIFAR-10 Batch 3:  Loss:     0.0005 Validation Accuracy: 0.724800\n",
      "Epoch 48, CIFAR-10 Batch 4:  Loss:     0.0005 Validation Accuracy: 0.716400\n",
      "Epoch 48, CIFAR-10 Batch 5:  Loss:     0.0004 Validation Accuracy: 0.723600\n",
      "Epoch 49, CIFAR-10 Batch 1:  Loss:     0.0011 Validation Accuracy: 0.701400\n",
      "Epoch 49, CIFAR-10 Batch 2:  Loss:     0.0005 Validation Accuracy: 0.726000\n",
      "Epoch 49, CIFAR-10 Batch 3:  Loss:     0.0000 Validation Accuracy: 0.722800\n",
      "Epoch 49, CIFAR-10 Batch 4:  Loss:     0.0021 Validation Accuracy: 0.712800\n",
      "Epoch 49, CIFAR-10 Batch 5:  Loss:     0.0007 Validation Accuracy: 0.720600\n",
      "Epoch 50, CIFAR-10 Batch 1:  Loss:     0.0003 Validation Accuracy: 0.726200\n",
      "Epoch 50, CIFAR-10 Batch 2:  Loss:     0.0015 Validation Accuracy: 0.718200\n",
      "Epoch 50, CIFAR-10 Batch 3:  Loss:     0.0007 Validation Accuracy: 0.720600\n",
      "Epoch 50, CIFAR-10 Batch 4:  Loss:     0.0076 Validation Accuracy: 0.717000\n",
      "Epoch 50, CIFAR-10 Batch 5:  Loss:     0.0016 Validation Accuracy: 0.719200\n"
     ]
    }
   ],
   "source": [
    "\"\"\"\n",
    "DON'T MODIFY ANYTHING IN THIS CELL\n",
    "\"\"\"\n",
    "save_model_path = './image_classification'\n",
    "\n",
    "print('Training...')\n",
    "with tf.Session() as sess:\n",
    "    # Initializing the variables\n",
    "    sess.run(tf.global_variables_initializer())\n",
    "    \n",
    "    # Training cycle\n",
    "    for epoch in range(epochs):\n",
    "        # Loop over all batches\n",
    "        n_batches = 5\n",
    "        for batch_i in range(1, n_batches + 1):\n",
    "            for batch_features, batch_labels in helper.load_preprocess_training_batch(batch_i, batch_size):\n",
    "                train_neural_network(sess, optimizer, keep_probability, batch_features, batch_labels)\n",
    "            print('Epoch {:>2}, CIFAR-10 Batch {}:  '.format(epoch + 1, batch_i), end='')\n",
    "            print_stats(sess, batch_features, batch_labels, cost, accuracy)\n",
    "            \n",
    "    # Save Model\n",
    "    saver = tf.train.Saver()\n",
    "    save_path = saver.save(sess, save_model_path)"
   ]
  },
  {
   "cell_type": "markdown",
   "metadata": {},
   "source": [
    "# Checkpoint\n",
    "The model has been saved to disk.\n",
    "## Test Model\n",
    "Test your model against the test dataset.  This will be your final accuracy. You should have an accuracy greater than 50%. If you don't, keep tweaking the model architecture and parameters."
   ]
  },
  {
   "cell_type": "code",
   "execution_count": 120,
   "metadata": {},
   "outputs": [
    {
     "name": "stdout",
     "output_type": "stream",
     "text": [
      "INFO:tensorflow:Restoring parameters from ./image_classification\n",
      "Testing Accuracy: 0.71025390625\n",
      "\n"
     ]
    },
    {
     "data": {
      "image/png": "[encoded data removed]",
      "text/plain": [
       "<matplotlib.figure.Figure at 0x11e1aca20>"
      ]
     },
     "metadata": {
      "image/png": {
       "height": 319,
       "width": 355
      }
     },
     "output_type": "display_data"
    }
   ],
   "source": [
    "\"\"\"\n",
    "DON'T MODIFY ANYTHING IN THIS CELL\n",
    "\"\"\"\n",
    "%matplotlib inline\n",
    "%config InlineBackend.figure_format = 'retina'\n",
    "\n",
    "import tensorflow as tf\n",
    "import pickle\n",
    "import helper\n",
    "import random\n",
    "\n",
    "# Set batch size if not already set\n",
    "try:\n",
    "    if batch_size:\n",
    "        pass\n",
    "except NameError:\n",
    "    batch_size = 64\n",
    "\n",
    "save_model_path = './image_classification'\n",
    "n_samples = 4\n",
    "top_n_predictions = 3\n",
    "\n",
    "def test_model():\n",
    "    \"\"\"\n",
    "    Test the saved model against the test dataset\n",
    "    \"\"\"\n",
    "\n",
    "    test_features, test_labels = pickle.load(open('preprocess_test.p', mode='rb'))\n",
    "    loaded_graph = tf.Graph()\n",
    "\n",
    "    with tf.Session(graph=loaded_graph) as sess:\n",
    "        # Load model\n",
    "        loader = tf.train.import_meta_graph(save_model_path + '.meta')\n",
    "        loader.restore(sess, save_model_path)\n",
    "\n",
    "        # Get Tensors from loaded model\n",
    "        loaded_x = loaded_graph.get_tensor_by_name('x:0')\n",
    "        loaded_y = loaded_graph.get_tensor_by_name('y:0')\n",
    "        loaded_keep_prob = loaded_graph.get_tensor_by_name('keep_prob:0')\n",
    "        loaded_logits = loaded_graph.get_tensor_by_name('logits:0')\n",
    "        loaded_acc = loaded_graph.get_tensor_by_name('accuracy:0')\n",
    "        \n",
    "        # Get accuracy in batches for memory limitations\n",
    "        test_batch_acc_total = 0\n",
    "        test_batch_count = 0\n",
    "        \n",
    "        for test_feature_batch, test_label_batch in helper.batch_features_labels(test_features, test_labels, batch_size):\n",
    "            test_batch_acc_total += sess.run(\n",
    "                loaded_acc,\n",
    "                feed_dict={loaded_x: test_feature_batch, loaded_y: test_label_batch, loaded_keep_prob: 1.0})\n",
    "            test_batch_count += 1\n",
    "\n",
    "        print('Testing Accuracy: {}\\n'.format(test_batch_acc_total/test_batch_count))\n",
    "\n",
    "        # Print Random Samples\n",
    "        random_test_features, random_test_labels = tuple(zip(*random.sample(list(zip(test_features, test_labels)), n_samples)))\n",
    "        random_test_predictions = sess.run(\n",
    "            tf.nn.top_k(tf.nn.softmax(loaded_logits), top_n_predictions),\n",
    "            feed_dict={loaded_x: random_test_features, loaded_y: random_test_labels, loaded_keep_prob: 1.0})\n",
    "        helper.display_image_predictions(random_test_features, random_test_labels, random_test_predictions)\n",
    "\n",
    "\n",
    "test_model()"
   ]
  },
  {
   "cell_type": "markdown",
   "metadata": {},
   "source": [
    "## Why 50-80% Accuracy?\n",
    "You might be wondering why you can't get an accuracy any higher. First things first, 50% isn't bad for a simple CNN.  Pure guessing would get you 10% accuracy. However, you might notice people are getting scores [well above 80%](http://rodrigob.github.io/are_we_there_yet/build/classification_datasets_results.html#43494641522d3130).  That's because we haven't taught you all there is to know about neural networks. We still need to cover a few more techniques.\n",
    "## Submitting This Project\n",
    "When submitting this project, make sure to run all the cells before saving the notebook.  Save the notebook file as \"dlnd_image_classification.ipynb\" and save it as a HTML file under \"File\" -> \"Download as\".  Include the \"helper.py\" and \"problem_unittests.py\" files in your submission."
   ]
  },
  {
   "cell_type": "code",
   "execution_count": null,
   "metadata": {
    "collapsed": true
   },
   "outputs": [],
   "source": []
  }
 ],
 "metadata": {
  "kernelspec": {
   "display_name": "Python 3",
   "language": "python",
   "name": "python3"
  },
  "language_info": {
   "codemirror_mode": {
    "name": "ipython",
    "version": 3
   },
   "file_extension": ".py",
   "mimetype": "text/x-python",
   "name": "python",
   "nbconvert_exporter": "python",
   "pygments_lexer": "ipython3",
   "version": "3.6.2"
  }
 },
 "nbformat": 4,
 "nbformat_minor": 1
}
